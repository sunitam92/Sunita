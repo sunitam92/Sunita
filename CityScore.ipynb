{
 "cells": [
  {
   "cell_type": "code",
   "execution_count": 1,
   "metadata": {},
   "outputs": [
    {
     "name": "stdout",
     "output_type": "stream",
     "text": [
      "#############################################################\n",
      "###################CITY SCORE PREDICTION #############\n",
      "#############################################################\n",
      "-------------------------------------------------------------\n"
     ]
    },
    {
     "name": "stderr",
     "output_type": "stream",
     "text": [
      "C:\\Users\\Sunita\\Anaconda3\\lib\\site-packages\\statsmodels\\compat\\pandas.py:56: FutureWarning: The pandas.core.datetools module is deprecated and will be removed in a future version. Please use the pandas.tseries module instead.\n",
      "  from pandas.core import datetools\n"
     ]
    },
    {
     "name": "stdout",
     "output_type": "stream",
     "text": [
      "               Score\n",
      "Date                \n",
      "2016-06-28  0.916239\n",
      "2016-04-13  0.964654\n",
      "2016-04-15  0.945004\n",
      "2016-07-22  0.906451\n",
      "2017-10-02  0.913069\n"
     ]
    },
    {
     "data": {
      "text/plain": [
       "<matplotlib.figure.Figure at 0x202c51566d8>"
      ]
     },
     "metadata": {},
     "output_type": "display_data"
    },
    {
     "name": "stdout",
     "output_type": "stream",
     "text": [
      "Printing the statistics\n",
      "-----------------------------------------\n"
     ]
    },
    {
     "name": "stderr",
     "output_type": "stream",
     "text": [
      "C:\\Users\\Sunita\\Anaconda3\\lib\\site-packages\\statsmodels\\tsa\\kalmanf\\kalmanfilter.py:646: FutureWarning: Conversion of the second argument of issubdtype from `float` to `np.floating` is deprecated. In future, it will be treated as `np.float64 == np.dtype(float).type`.\n",
      "  if issubdtype(paramsdtype, float):\n",
      "C:\\Users\\Sunita\\Anaconda3\\lib\\site-packages\\statsmodels\\tsa\\kalmanf\\kalmanfilter.py:650: FutureWarning: Conversion of the second argument of issubdtype from `complex` to `np.complexfloating` is deprecated. In future, it will be treated as `np.complex128 == np.dtype(complex).type`.\n",
      "  elif issubdtype(paramsdtype, complex):\n"
     ]
    },
    {
     "name": "stdout",
     "output_type": "stream",
     "text": [
      "                             ARIMA Model Results                              \n",
      "==============================================================================\n",
      "Dep. Variable:                D.Score   No. Observations:                  636\n",
      "Model:                 ARIMA(5, 1, 0)   Log Likelihood                -187.747\n",
      "Method:                       css-mle   S.D. of innovations              0.325\n",
      "Date:                Wed, 27 Jun 2018   AIC                            389.495\n",
      "Time:                        14:48:19   BIC                            420.681\n",
      "Sample:                    04-13-2016   HQIC                           401.603\n",
      "                         - 05-02-2018                                         \n",
      "=================================================================================\n",
      "                    coef    std err          z      P>|z|      [0.025      0.975]\n",
      "---------------------------------------------------------------------------------\n",
      "const         -1.448e-05      0.003     -0.004      0.997      -0.007       0.007\n",
      "ar.L1.D.Score    -0.8733      0.039    -22.162      0.000      -0.951      -0.796\n",
      "ar.L2.D.Score    -0.7287      0.049    -14.951      0.000      -0.824      -0.633\n",
      "ar.L3.D.Score    -0.6085      0.051    -11.890      0.000      -0.709      -0.508\n",
      "ar.L4.D.Score    -0.4873      0.049    -10.027      0.000      -0.583      -0.392\n",
      "ar.L5.D.Score    -0.1076      0.039     -2.742      0.006      -0.185      -0.031\n",
      "                                    Roots                                    \n",
      "=============================================================================\n",
      "                 Real           Imaginary           Modulus         Frequency\n",
      "-----------------------------------------------------------------------------\n",
      "AR.1            0.4300           -1.1573j            1.2346           -0.1934\n",
      "AR.2            0.4300           +1.1573j            1.2346            0.1934\n",
      "AR.3           -1.0514           -0.8662j            1.3623           -0.3903\n",
      "AR.4           -1.0514           +0.8662j            1.3623            0.3903\n",
      "AR.5           -3.2842           -0.0000j            3.2842           -0.5000\n",
      "-----------------------------------------------------------------------------\n"
     ]
    },
    {
     "name": "stderr",
     "output_type": "stream",
     "text": [
      "C:\\Users\\Sunita\\Anaconda3\\lib\\site-packages\\statsmodels\\tsa\\kalmanf\\kalmanfilter.py:577: FutureWarning: Conversion of the second argument of issubdtype from `float` to `np.floating` is deprecated. In future, it will be treated as `np.float64 == np.dtype(float).type`.\n",
      "  if issubdtype(paramsdtype, float):\n"
     ]
    },
    {
     "data": {
      "text/plain": [
       "<matplotlib.figure.Figure at 0x202c5f02b00>"
      ]
     },
     "metadata": {},
     "output_type": "display_data"
    },
    {
     "data": {
      "text/plain": [
       "<matplotlib.figure.Figure at 0x202c5f52588>"
      ]
     },
     "metadata": {},
     "output_type": "display_data"
    },
    {
     "name": "stdout",
     "output_type": "stream",
     "text": [
      "                0\n",
      "count  636.000000\n",
      "mean     0.000021\n",
      "std      0.324956\n",
      "min     -1.528120\n",
      "25%     -0.025831\n",
      "50%     -0.002564\n",
      "75%      0.016689\n",
      "max      4.000953\n",
      "-----------------------------------------\n",
      "Please wait...... Training the testcases is in progress...\n",
      "-----------------------------------------\n"
     ]
    },
    {
     "name": "stderr",
     "output_type": "stream",
     "text": [
      "C:\\Users\\Sunita\\Anaconda3\\lib\\site-packages\\ipykernel_launcher.py:55: FutureWarning: 'pandas.tools.plotting.autocorrelation_plot' is deprecated, import 'pandas.plotting.autocorrelation_plot' instead.\n"
     ]
    },
    {
     "data": {
      "text/plain": [
       "<matplotlib.figure.Figure at 0x202c5f16128>"
      ]
     },
     "metadata": {},
     "output_type": "display_data"
    },
    {
     "name": "stdout",
     "output_type": "stream",
     "text": [
      "Total Test cases: 217\n"
     ]
    },
    {
     "name": "stderr",
     "output_type": "stream",
     "text": [
      "100%|██████████| 217/217 [00:54<00:00,  3.95it/s]\n"
     ]
    },
    {
     "name": "stdout",
     "output_type": "stream",
     "text": [
      "Test MSE: 0.001\n"
     ]
    },
    {
     "data": {
      "text/plain": [
       "<matplotlib.figure.Figure at 0x202c5fb0358>"
      ]
     },
     "metadata": {},
     "output_type": "display_data"
    },
    {
     "name": "stdout",
     "output_type": "stream",
     "text": [
      "------------------------------------------\n",
      "END\n"
     ]
    }
   ],
   "source": [
    "import pandas as pd\n",
    "from pandas import read_csv\n",
    "from pandas import datetime\n",
    "from matplotlib import pyplot\n",
    "from statsmodels.tsa.arima_model import ARIMA \n",
    "from pandas.tools.plotting import autocorrelation_plot\n",
    "from tqdm import tqdm\n",
    "from sklearn.metrics import mean_squared_error\n",
    "#Install the missing packages by: python -m pip install <package name> or pip install <package name>\n",
    "class CSPredict:\n",
    "    def __init__(self,path):\n",
    "        self.path=path\n",
    "        \n",
    "    def parser(self,x):\n",
    "        return x\n",
    "    def start(self):\n",
    "        # read and parse data \n",
    "        print(\"#############################################################\")\n",
    "        print(\"###################CITY SCORE PREDICTION #############\")\n",
    "        print(\"#############################################################\")\n",
    "        print(\"-------------------------------------------------------------\")\n",
    "        city_score = read_csv(self.path, header=None,parse_dates=[2], squeeze=True, date_parser=self.parser)\n",
    "        city_score = city_score.iloc[:, [2, 1]]\n",
    "        city_score.columns = ['Date', 'Score']\n",
    "\n",
    "        # set index as datetime to support plotting and Arima Model\n",
    "        city_score.set_index('Date', inplace=True)\n",
    "        # city_score = city_score.asfreq('T')\n",
    "\n",
    "        print(city_score.head())\n",
    "\n",
    "        city_score.plot(title='City Score Prediction')\n",
    "        pyplot.tight_layout()\n",
    "        pyplot.show()\n",
    "        print(\"Printing the statistics\")\n",
    "        print(\"-----------------------------------------\")\n",
    "        self.stats(city_score)\n",
    "    def stats(self,city_score):\n",
    "        model = ARIMA(city_score, order=(5,1,0))\n",
    "        model_fit = model.fit(disp=0)\n",
    "        print(model_fit.summary())\n",
    "\n",
    "        # plot residual errors\n",
    "        residuals = pd.DataFrame(model_fit.resid)\n",
    "        residuals.plot()\n",
    "        pyplot.show()\n",
    "        residuals.plot(kind='kde')\n",
    "        pyplot.show()\n",
    "        print(residuals.describe())\n",
    "        print(\"-----------------------------------------\")\n",
    "        print(\"Please wait...... Training the testcases is in progress...\")\n",
    "        print(\"-----------------------------------------\")\n",
    "        self.autocorelaton(city_score)\n",
    "    def autocorelaton(self,city_score):\n",
    "        autocorrelation_plot(city_score)\n",
    "        pyplot.show()\n",
    "        #Will take more than 30 minutes to 1 hour to run as it will train the data.\n",
    "        X = city_score.values\n",
    "        size = int(len(X) * 0.66)\n",
    "        train, test = X[0:size], X[size:len(X)]\n",
    "        history = [x for x in train]\n",
    "        predictions = list()\n",
    "        print('Total Test cases: {}'.format(len(test)))\n",
    "        for t in tqdm(range(len(test))):\n",
    "            model = ARIMA(history, order=(5,1,0))\n",
    "            model_fit = model.fit(disp=0)\n",
    "            output = model_fit.forecast()\n",
    "            yhat = output[0]\n",
    "            predictions.append(yhat)\n",
    "            obs = test[t]\n",
    "            history.append(obs)\n",
    "        self.finalize(test,predictions)\n",
    "    def finalize(self,test,predictions):\n",
    "        error = mean_squared_error(test, predictions)\n",
    "        print('Test MSE: %.3f' % error)\n",
    "        # plot\n",
    "        pyplot.plot(test)\n",
    "        pyplot.plot(predictions, color='red')\n",
    "        pyplot.show()\n",
    "        print(\"------------------------------------------\")\n",
    "        print(\"END\")\n",
    "\n",
    "CSPredict('cityscore.csv').start();\n"
   ]
  },
  {
   "cell_type": "code",
   "execution_count": null,
   "metadata": {},
   "outputs": [],
   "source": []
  }
 ],
 "metadata": {
  "kernelspec": {
   "display_name": "Python 3",
   "language": "python",
   "name": "python3"
  },
  "language_info": {
   "codemirror_mode": {
    "name": "ipython",
    "version": 3
   },
   "file_extension": ".py",
   "mimetype": "text/x-python",
   "name": "python",
   "nbconvert_exporter": "python",
   "pygments_lexer": "ipython3",
   "version": "3.6.4"
  }
 },
 "nbformat": 4,
 "nbformat_minor": 2
}
